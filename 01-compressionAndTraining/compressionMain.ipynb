{
 "cells": [
  {
   "cell_type": "markdown",
   "metadata": {},
   "source": [
    "# An end-to-end workflow to efficiently compress and deploy DNN classifiers on SoC/FPGA."
   ]
  },
  {
   "cell_type": "markdown",
   "metadata": {},
   "source": [
    "### Includes\n",
    "- **config.py** file contains the definitions that the user should modify before the training and compression \n",
    "- **compressionStart.py** includes the functions used in the prcess"
   ]
  },
  {
   "cell_type": "code",
   "execution_count": null,
   "metadata": {},
   "outputs": [],
   "source": [
    "import sys\n",
    "sys.path.append(\"src\")\n",
    "\n",
    "from config import dataset_config, teacher_config, student_config\n",
    "\n",
    "from src.compressionStart import *"
   ]
  },
  {
   "cell_type": "markdown",
   "metadata": {},
   "source": [
    "##### `startDNNTrainingAndCompression()`: End-to-End Pipeline\n",
    "\n",
    "This function orchestrates the full training and compression pipeline, including:\n",
    "\n",
    "- **Dataset loading**  \n",
    "  Automatically loads and preprocesses the selected dataset (1D signals or 2D images).\n",
    "\n",
    "- **Teacher model optimization and training**  \n",
    "  Performs hyperparameter tuning and training of the teacher model (if enabled via config).\n",
    "\n",
    "- **Student model optimization (Bayesian Optimization)**  \n",
    "  Tunes the student architecture based on the selected compression strategy:\n",
    "  - **Quantization**\n",
    "  - **Pruning**\n",
    "  - **Knowledge Distillation**\n",
    "\n",
    "- **Student model training**  \n",
    "  Trains the student with the chosen compression techniques.\n",
    "\n",
    "- **Performance evaluation**  \n",
    "  Reports accuracy and other metrics for both teacher and student models.\n",
    "\n",
    "- **Model saving**  \n",
    "  Stores the trained teacher and student models in the `models/` directory, with filenames indicating the strategy used.\n"
   ]
  },
  {
   "cell_type": "code",
   "execution_count": null,
   "metadata": {},
   "outputs": [],
   "source": [
    "startDNNTrainingAndCompression()    "
   ]
  },
  {
   "cell_type": "code",
   "execution_count": null,
   "metadata": {},
   "outputs": [],
   "source": []
  },
  {
   "cell_type": "code",
   "execution_count": null,
   "metadata": {},
   "outputs": [],
   "source": []
  },
  {
   "cell_type": "code",
   "execution_count": null,
   "metadata": {},
   "outputs": [],
   "source": []
  }
 ],
 "metadata": {
  "kernelspec": {
   "display_name": "neuralEnvLSTM",
   "language": "python",
   "name": "python3"
  },
  "language_info": {
   "codemirror_mode": {
    "name": "ipython",
    "version": 3
   },
   "file_extension": ".py",
   "mimetype": "text/x-python",
   "name": "python",
   "nbconvert_exporter": "python",
   "pygments_lexer": "ipython3",
   "version": "3.8.19"
  },
  "orig_nbformat": 4
 },
 "nbformat": 4,
 "nbformat_minor": 2
}
