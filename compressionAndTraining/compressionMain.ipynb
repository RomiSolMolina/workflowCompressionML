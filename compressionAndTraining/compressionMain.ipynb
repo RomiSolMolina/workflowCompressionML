{
 "cells": [
  {
   "cell_type": "markdown",
   "metadata": {},
   "source": [
    "# An end-to-end workflow to efficiently compress and deploy DNN classifiers on SoC/FPGA."
   ]
  },
  {
   "cell_type": "markdown",
   "metadata": {},
   "source": [
    "### Includes\n",
    "- **config.py** file contains the definitions that the user should modify before the training and compression \n",
    "- **compressionStart.py** includes the functions used in the prcess"
   ]
  },
  {
   "cell_type": "code",
   "execution_count": null,
   "metadata": {},
   "outputs": [],
   "source": [
    "import sys\n",
    "sys.path.append(\"src\")\n",
    "\n",
    "from config import dataset_config, teacher_config, student_config\n",
    "\n",
    "from src.compressionStart import *"
   ]
  },
  {
   "cell_type": "markdown",
   "metadata": {},
   "source": [
    "### This function performs the training and compression process, including:\n",
    "\n",
    "\n",
    "- Load dataset. \n",
    "- Hyperparameters optimization for teacher topology.\n",
    "- Training of the teacher model.\n",
    "- Hyperparameters optimization for the student topology.\n",
    "    - This process is combined with pruning, quantization, and knowledge distillation.\n",
    "- Training of the student model. \n",
    "    - This process is combined with pruning, quantization, and knowledge distillation.\n",
    "- Metric report.\n",
    "- Teacher and student models are saved in the folder **models**."
   ]
  },
  {
   "cell_type": "code",
   "execution_count": null,
   "metadata": {},
   "outputs": [],
   "source": [
    "startDNNTrainingAndCompression()"
   ]
  },
  {
   "cell_type": "code",
   "execution_count": null,
   "metadata": {},
   "outputs": [],
   "source": []
  },
  {
   "cell_type": "code",
   "execution_count": null,
   "metadata": {},
   "outputs": [],
   "source": []
  },
  {
   "cell_type": "code",
   "execution_count": null,
   "metadata": {},
   "outputs": [],
   "source": []
  }
 ],
 "metadata": {
  "kernelspec": {
   "display_name": "neuralEnvLSTM",
   "language": "python",
   "name": "python3"
  },
  "language_info": {
   "codemirror_mode": {
    "name": "ipython",
    "version": 3
   },
   "file_extension": ".py",
   "mimetype": "text/x-python",
   "name": "python",
   "nbconvert_exporter": "python",
   "pygments_lexer": "ipython3",
   "version": "3.8.19"
  },
  "orig_nbformat": 4
 },
 "nbformat": 4,
 "nbformat_minor": 2
}
